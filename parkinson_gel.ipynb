{
  "nbformat": 4,
  "nbformat_minor": 0,
  "metadata": {
    "colab": {
      "provenance": [],
      "toc_visible": true,
      "authorship_tag": "ABX9TyMhLBuXJXnrq/ArcJ9O1ZJV"
    },
    "kernelspec": {
      "name": "python3",
      "display_name": "Python 3"
    },
    "language_info": {
      "name": "python"
    }
  },
  "cells": [
    {
      "cell_type": "markdown",
      "source": [
        "# Introduction"
      ],
      "metadata": {
        "id": "2n37qTtitFFs"
      }
    },
    {
      "cell_type": "markdown",
      "source": [
        "## Background"
      ],
      "metadata": {
        "id": "9cM6WagGIN8t"
      }
    },
    {
      "cell_type": "markdown",
      "source": [
        "Parkinson is a complex neurodegenerative disorder of the nervous system with moter disfunction [1]. Genome wide association studies are the major source of understanding the genetics of complex disorders [2]. GWAS Catalog is considered a gold standard in the prospect and as of July 2022, it contains ∼400 000 curated SNP-trait associations from >45 000 individual GWAS in ∼6000 publications [3]. As of Feb 2022, there are more then 40,000 studies avialble majorly focused on GWAS analytics.\n",
        "\n",
        "\n",
        "\n",
        "\n",
        "\n",
        "\n",
        "\n",
        "\n",
        "\n",
        "\n",
        "\n",
        "\n",
        "\n"
      ],
      "metadata": {
        "id": "UsEhtNRFtKBS"
      }
    },
    {
      "cell_type": "markdown",
      "source": [
        "## Rationale\n",
        "\n",
        "In order to enrich the understanding of complex disorders and thier therapatic applications; there is a need for the mining of GWAS studies and thier respective Associations.\n",
        "\n",
        "In order to enrich the understanding of complex disorders and thier therapatic applications; there is a need for the mining of GWAS studies and thier respective Associations."
      ],
      "metadata": {
        "id": "Z3e7aRK7IapC"
      }
    },
    {
      "cell_type": "markdown",
      "source": [
        "## References\n",
        "\n",
        "1.    Poewe W, Seppi K, Tanner CM, et al. Parkinson disease. Nature reviews. Disease Primers. 2017 Mar;3:17013. DOI: 10.1038/nrdp.2017.13. PMID: 28332488. \n",
        "2.  Huang Q. Genetic study of complex diseases in the post-GWAS era. Journal of Genetics and Genomics = Yi Chuan xue bao. 2015 Mar;42(3):87-98. DOI: 10.1016/j.jgg.2015.02.001. PMID: 25819085.\n",
        "3.   Sollis, E., Mosaku, A., Abid, A., Buniello, A., Cerezo, M., Gil, L., Groza, T., Güneş, O., Hall, P., Hayhurst, J., Ibrahim, A., Ji, Y., John, S., Lewis, E., MacArthur, J. A. L., McMahon, A., Osumi-Sutherland, D., Panoutsopoulou, K., Pendlington, Z., Ramachandran, S., … Harris, L. W. (2023). The NHGRI-EBI GWAS Catalog: knowledgebase and deposition resource. Nucleic acids research, 51(D1), D977–D985. https://doi.org/10.1093/nar/gkac1010\n"
      ],
      "metadata": {
        "id": "lv5-XtRKIq_a"
      }
    }
  ]
}