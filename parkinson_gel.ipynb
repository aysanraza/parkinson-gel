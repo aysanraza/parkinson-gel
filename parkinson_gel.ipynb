{
  "nbformat": 4,
  "nbformat_minor": 0,
  "metadata": {
    "colab": {
      "provenance": [],
      "toc_visible": true,
      "authorship_tag": "ABX9TyOsr/eNUVI3hva01EGAccwm"
    },
    "kernelspec": {
      "name": "python3",
      "display_name": "Python 3"
    },
    "language_info": {
      "name": "python"
    }
  },
  "cells": [
    {
      "cell_type": "markdown",
      "source": [
        "# Introduction"
      ],
      "metadata": {
        "id": "2n37qTtitFFs"
      }
    },
    {
      "cell_type": "markdown",
      "source": [
        "## Background"
      ],
      "metadata": {
        "id": "9cM6WagGIN8t"
      }
    },
    {
      "cell_type": "markdown",
      "source": [
        "Parkinson is a complex neurodegenerative disorder of the nervous system with moter disfunction [1]. Genome wide association studies are the major source of understanding the genetics of complex disorders [2]. GWAS Catalog is considered a gold standard in the prospect and as of July 2022, it contains ∼400 000 curated SNP-trait associations from >45 000 individual GWAS in ∼6000 publications [3]. As of Feb 2022, there are more then 40,000 studies avialble majorly focused on GWAS analytics.\n",
        "\n",
        "\n",
        "\n",
        "\n",
        "\n",
        "\n",
        "\n",
        "\n",
        "\n",
        "\n",
        "\n",
        "\n",
        "\n"
      ],
      "metadata": {
        "id": "UsEhtNRFtKBS"
      }
    },
    {
      "cell_type": "markdown",
      "source": [
        "## Rationale\n",
        "\n",
        "In order to enrich the understanding of complex disorders and thier therapatic applications; there is a need for the mining of GWAS studies and thier respective Associations."
      ],
      "metadata": {
        "id": "Z3e7aRK7IapC"
      }
    },
    {
      "cell_type": "markdown",
      "source": [
        "## References\n",
        "\n",
        "1.    Poewe W, Seppi K, Tanner CM, et al. Parkinson disease. Nature reviews. Disease Primers. 2017 Mar;3:17013. DOI: 10.1038/nrdp.2017.13. PMID: 28332488. \n",
        "2.  Huang Q. Genetic study of complex diseases in the post-GWAS era. Journal of Genetics and Genomics = Yi Chuan xue bao. 2015 Mar;42(3):87-98. DOI: 10.1016/j.jgg.2015.02.001. PMID: 25819085.\n",
        "3.   Sollis, E., Mosaku, A., Abid, A., Buniello, A., Cerezo, M., Gil, L., Groza, T., Güneş, O., Hall, P., Hayhurst, J., Ibrahim, A., Ji, Y., John, S., Lewis, E., MacArthur, J. A. L., McMahon, A., Osumi-Sutherland, D., Panoutsopoulou, K., Pendlington, Z., Ramachandran, S., … Harris, L. W. (2023). The NHGRI-EBI GWAS Catalog: knowledgebase and deposition resource. Nucleic acids research, 51(D1), D977–D985. https://doi.org/10.1093/nar/gkac1010\n"
      ],
      "metadata": {
        "id": "lv5-XtRKIq_a"
      }
    },
    {
      "cell_type": "markdown",
      "source": [
        "# Data Preprocessing"
      ],
      "metadata": {
        "id": "WxRZgRrcxKZI"
      }
    },
    {
      "cell_type": "markdown",
      "source": [
        "## Libraries Importation"
      ],
      "metadata": {
        "id": "DCCT0atIw0rR"
      }
    },
    {
      "cell_type": "code",
      "source": [
        "import os\n",
        "import numpy as np\n",
        "import pandas as pd\n",
        "import datetime\n",
        "import tensorflow as tf\n",
        "import tensorflow_hub as hub\n",
        "\n",
        "print(\"Version of tf: \", tf.__version__)\n",
        "print(\"Version of pd: \", pd.__version__)\n",
        "print(\"Eager mode: \", tf.executing_eagerly())\n",
        "print(\"Hub version: \", hub.__version__)\n",
        "print(\"GPU is\", \"available\" if tf.config.list_physical_devices(\"GPU\") else \"NOT AVAILABLE\")"
      ],
      "metadata": {
        "colab": {
          "base_uri": "https://localhost:8080/"
        },
        "id": "lzBf4GoDztZl",
        "outputId": "7abd274e-d670-4072-8a58-9c60ff50d0aa"
      },
      "execution_count": null,
      "outputs": [
        {
          "output_type": "stream",
          "name": "stdout",
          "text": [
            "Version of tf:  2.11.0\n",
            "Version of pd:  1.3.5\n",
            "Eager mode:  True\n",
            "Hub version:  0.12.0\n",
            "GPU is NOT AVAILABLE\n"
          ]
        }
      ]
    },
    {
      "cell_type": "markdown",
      "source": [
        "## Data Importation"
      ],
      "metadata": {
        "id": "uB2wgjF-yNF5"
      }
    },
    {
      "cell_type": "code",
      "source": [
        "dataset_raw = pd.read_csv('/content/sample_data/data_ml_gwas_titles.csv')\n",
        "print(dataset_raw)"
      ],
      "metadata": {
        "colab": {
          "base_uri": "https://localhost:8080/"
        },
        "id": "X5nlIsHFEb1N",
        "outputId": "1ca24b1c-cb41-4355-e51f-ca308c5d2375"
      },
      "execution_count": null,
      "outputs": [
        {
          "output_type": "stream",
          "name": "stdout",
          "text": [
            "                                               *title*  *label*\n",
            "0    *\"A generalized linear mixed model association...        1\n",
            "1    *\"Genetics of early-onset Parkinson's disease ...        1\n",
            "2    *\"Identification of Risk Loci for Parkinson Di...        1\n",
            "3    *\"Genetic modifiers of risk and age at onset i...        1\n",
            "4                 *\"Identification of novel risk loci*        1\n",
            "..                                                 ...      ...\n",
            "109  *\"Research progress of stem cell therapy for e...        0\n",
            "110  *\"Human metabolite detection by surface-enhanc...        0\n",
            "111  *\"Biohybrid materials: Structure design and bi...        0\n",
            "112  *\"3D-bioprinted peptide coupling patches for w...        0\n",
            "113  *\"Preparation and application of calcium phosp...        0\n",
            "\n",
            "[114 rows x 2 columns]\n"
          ]
        }
      ]
    },
    {
      "cell_type": "markdown",
      "source": [
        "The imported semi-processed dataset from a csv file contains the data of 114 research studies. The imported studies are of two types GWAS-Parkinson Studies and non GWAS-Parkinson studies; with label 1 reperesents the GWAS-Parkinson Studies and 0 represent the non GWAS-Parkinson studies."
      ],
      "metadata": {
        "id": "yGyHsetLEYA-"
      }
    },
    {
      "cell_type": "markdown",
      "source": [
        "## EDA"
      ],
      "metadata": {
        "id": "H1FBx0ugyYPl"
      }
    },
    {
      "cell_type": "code",
      "source": [
        "dataset_raw.dtypes"
      ],
      "metadata": {
        "colab": {
          "base_uri": "https://localhost:8080/"
        },
        "id": "FKS9kX3TWIoc",
        "outputId": "f71ba2e1-5bcc-40d3-a266-f3fdacfc8e10"
      },
      "execution_count": null,
      "outputs": [
        {
          "output_type": "execute_result",
          "data": {
            "text/plain": [
              "*title*    object\n",
              "*label*     int64\n",
              "dtype: object"
            ]
          },
          "metadata": {},
          "execution_count": 28
        }
      ]
    },
    {
      "cell_type": "markdown",
      "source": [
        "Titles of the studies are in object datatype; requiring a NLP based feature formation procedures.\n",
        "\n",
        "\n",
        "---\n",
        "\n"
      ],
      "metadata": {
        "id": "7y_jHf3MGcyd"
      }
    },
    {
      "cell_type": "code",
      "source": [
        "dataset_raw.info()"
      ],
      "metadata": {
        "colab": {
          "base_uri": "https://localhost:8080/"
        },
        "id": "gGHHTTwxHqDF",
        "outputId": "5c37ba82-b624-4a5c-8b68-276b99e6765e"
      },
      "execution_count": null,
      "outputs": [
        {
          "output_type": "stream",
          "name": "stdout",
          "text": [
            "<class 'pandas.core.frame.DataFrame'>\n",
            "RangeIndex: 114 entries, 0 to 113\n",
            "Data columns (total 2 columns):\n",
            " #   Column   Non-Null Count  Dtype \n",
            "---  ------   --------------  ----- \n",
            " 0   *title*  114 non-null    object\n",
            " 1   *label*  114 non-null    int64 \n",
            "dtypes: int64(1), object(1)\n",
            "memory usage: 1.9+ KB\n"
          ]
        }
      ]
    },
    {
      "cell_type": "markdown",
      "source": [
        "The preproceesed imported dataset contain no null or missing values in both the coloums; hence a skiping of data cleaning procedures.\n",
        "\n",
        "\n",
        "---\n",
        "\n"
      ],
      "metadata": {
        "id": "aqJRzsLuG0dN"
      }
    },
    {
      "cell_type": "code",
      "source": [
        "dataset_raw.plot()"
      ],
      "metadata": {
        "colab": {
          "base_uri": "https://localhost:8080/",
          "height": 282
        },
        "id": "lArKRhoiIu0T",
        "outputId": "55b81901-0301-4e99-efc4-d6748fffce21"
      },
      "execution_count": null,
      "outputs": [
        {
          "output_type": "execute_result",
          "data": {
            "text/plain": [
              "<AxesSubplot:>"
            ]
          },
          "metadata": {},
          "execution_count": 16
        },
        {
          "output_type": "display_data",
          "data": {
            "text/plain": [
              "<Figure size 432x288 with 1 Axes>"
            ],
            "image/png": "[encoded data removed]"
          },
          "metadata": {
            "needs_background": "light"
          }
        }
      ]
    },
    {
      "cell_type": "markdown",
      "source": [
        "The distribution of both GWAS-Parkinson studies and non GWAS-Parkinson studies is almost equally divided, giving a good starting point against baised dataset problems.\n",
        "\n",
        "\n",
        "---\n",
        "\n"
      ],
      "metadata": {
        "id": "Ja5ZxGYkHSCV"
      }
    },
    {
      "cell_type": "markdown",
      "source": [
        "## Feature Transformation"
      ],
      "metadata": {
        "id": "Lau7E56sJp9J"
      }
    },
    {
      "cell_type": "code",
      "source": [
        "features = dataset_raw.iloc[:, :-1]; features"
      ],
      "metadata": {
        "id": "KyO0Pd0JLXqI",
        "colab": {
          "base_uri": "https://localhost:8080/",
          "height": 424
        },
        "outputId": "05ff84ba-3891-418f-ce4b-997eabacf73e"
      },
      "execution_count": null,
      "outputs": [
        {
          "output_type": "execute_result",
          "data": {
            "text/plain": [
              "                                               *title*\n",
              "0    *\"A generalized linear mixed model association...\n",
              "1    *\"Genetics of early-onset Parkinson's disease ...\n",
              "2    *\"Identification of Risk Loci for Parkinson Di...\n",
              "3    *\"Genetic modifiers of risk and age at onset i...\n",
              "4                 *\"Identification of novel risk loci*\n",
              "..                                                 ...\n",
              "109  *\"Research progress of stem cell therapy for e...\n",
              "110  *\"Human metabolite detection by surface-enhanc...\n",
              "111  *\"Biohybrid materials: Structure design and bi...\n",
              "112  *\"3D-bioprinted peptide coupling patches for w...\n",
              "113  *\"Preparation and application of calcium phosp...\n",
              "\n",
              "[114 rows x 1 columns]"
            ],
            "text/html": [
              "\n",
              "  <div id=\"df-26400bd8-d355-406d-bc84-a4cc45ee079b\">\n",
              "    <div class=\"colab-df-container\">\n",
              "      <div>\n",
              "<style scoped>\n",
              "    .dataframe tbody tr th:only-of-type {\n",
              "        vertical-align: middle;\n",
              "    }\n",
              "\n",
              "    .dataframe tbody tr th {\n",
              "        vertical-align: top;\n",
              "    }\n",
              "\n",
              "    .dataframe thead th {\n",
              "        text-align: right;\n",
              "    }\n",
              "</style>\n",
              "<table border=\"1\" class=\"dataframe\">\n",
              "  <thead>\n",
              "    <tr style=\"text-align: right;\">\n",
              "      <th></th>\n",
              "      <th>*title*</th>\n",
              "    </tr>\n",
              "  </thead>\n",
              "  <tbody>\n",
              "    <tr>\n",
              "      <th>0</th>\n",
              "      <td>*\"A generalized linear mixed model association...</td>\n",
              "    </tr>\n",
              "    <tr>\n",
              "      <th>1</th>\n",
              "      <td>*\"Genetics of early-onset Parkinson's disease ...</td>\n",
              "    </tr>\n",
              "    <tr>\n",
              "      <th>2</th>\n",
              "      <td>*\"Identification of Risk Loci for Parkinson Di...</td>\n",
              "    </tr>\n",
              "    <tr>\n",
              "      <th>3</th>\n",
              "      <td>*\"Genetic modifiers of risk and age at onset i...</td>\n",
              "    </tr>\n",
              "    <tr>\n",
              "      <th>4</th>\n",
              "      <td>*\"Identification of novel risk loci*</td>\n",
              "    </tr>\n",
              "    <tr>\n",
              "      <th>...</th>\n",
              "      <td>...</td>\n",
              "    </tr>\n",
              "    <tr>\n",
              "      <th>109</th>\n",
              "      <td>*\"Research progress of stem cell therapy for e...</td>\n",
              "    </tr>\n",
              "    <tr>\n",
              "      <th>110</th>\n",
              "      <td>*\"Human metabolite detection by surface-enhanc...</td>\n",
              "    </tr>\n",
              "    <tr>\n",
              "      <th>111</th>\n",
              "      <td>*\"Biohybrid materials: Structure design and bi...</td>\n",
              "    </tr>\n",
              "    <tr>\n",
              "      <th>112</th>\n",
              "      <td>*\"3D-bioprinted peptide coupling patches for w...</td>\n",
              "    </tr>\n",
              "    <tr>\n",
              "      <th>113</th>\n",
              "      <td>*\"Preparation and application of calcium phosp...</td>\n",
              "    </tr>\n",
              "  </tbody>\n",
              "</table>\n",
              "<p>114 rows × 1 columns</p>\n",
              "</div>\n",
              "      <button class=\"colab-df-convert\" onclick=\"convertToInteractive('df-26400bd8-d355-406d-bc84-a4cc45ee079b')\"\n",
              "              title=\"Convert this dataframe to an interactive table.\"\n",
              "              style=\"display:none;\">\n",
              "        \n",
              "  <svg xmlns=\"http://www.w3.org/2000/svg\" height=\"24px\"viewBox=\"0 0 24 24\"\n",
              "       width=\"24px\">\n",
              "    <path d=\"M0 0h24v24H0V0z\" fill=\"none\"/>\n",
              "    <path d=\"M18.56 5.44l.94 2.06.94-2.06 2.06-.94-2.06-.94-.94-2.06-.94 2.06-2.06.94zm-11 1L8.5 8.5l.94-2.06 2.06-.94-2.06-.94L8.5 2.5l-.94 2.06-2.06.94zm10 10l.94 2.06.94-2.06 2.06-.94-2.06-.94-.94-2.06-.94 2.06-2.06.94z\"/><path d=\"M17.41 7.96l-1.37-1.37c-.4-.4-.92-.59-1.43-.59-.52 0-1.04.2-1.43.59L10.3 9.45l-7.72 7.72c-.78.78-.78 2.05 0 2.83L4 21.41c.39.39.9.59 1.41.59.51 0 1.02-.2 1.41-.59l7.78-7.78 2.81-2.81c.8-.78.8-2.07 0-2.86zM5.41 20L4 18.59l7.72-7.72 1.47 1.35L5.41 20z\"/>\n",
              "  </svg>\n",
              "      </button>\n",
              "      \n",
              "  <style>\n",
              "    .colab-df-container {\n",
              "      display:flex;\n",
              "      flex-wrap:wrap;\n",
              "      gap: 12px;\n",
              "    }\n",
              "\n",
              "    .colab-df-convert {\n",
              "      background-color: #E8F0FE;\n",
              "      border: none;\n",
              "      border-radius: 50%;\n",
              "      cursor: pointer;\n",
              "      display: none;\n",
              "      fill: #1967D2;\n",
              "      height: 32px;\n",
              "      padding: 0 0 0 0;\n",
              "      width: 32px;\n",
              "    }\n",
              "\n",
              "    .colab-df-convert:hover {\n",
              "      background-color: #E2EBFA;\n",
              "      box-shadow: 0px 1px 2px rgba(60, 64, 67, 0.3), 0px 1px 3px 1px rgba(60, 64, 67, 0.15);\n",
              "      fill: #174EA6;\n",
              "    }\n",
              "\n",
              "    [theme=dark] .colab-df-convert {\n",
              "      background-color: #3B4455;\n",
              "      fill: #D2E3FC;\n",
              "    }\n",
              "\n",
              "    [theme=dark] .colab-df-convert:hover {\n",
              "      background-color: #434B5C;\n",
              "      box-shadow: 0px 1px 3px 1px rgba(0, 0, 0, 0.15);\n",
              "      filter: drop-shadow(0px 1px 2px rgba(0, 0, 0, 0.3));\n",
              "      fill: #FFFFFF;\n",
              "    }\n",
              "  </style>\n",
              "\n",
              "      <script>\n",
              "        const buttonEl =\n",
              "          document.querySelector('#df-26400bd8-d355-406d-bc84-a4cc45ee079b button.colab-df-convert');\n",
              "        buttonEl.style.display =\n",
              "          google.colab.kernel.accessAllowed ? 'block' : 'none';\n",
              "\n",
              "        async function convertToInteractive(key) {\n",
              "          const element = document.querySelector('#df-26400bd8-d355-406d-bc84-a4cc45ee079b');\n",
              "          const dataTable =\n",
              "            await google.colab.kernel.invokeFunction('convertToInteractive',\n",
              "                                                     [key], {});\n",
              "          if (!dataTable) return;\n",
              "\n",
              "          const docLinkHtml = 'Like what you see? Visit the ' +\n",
              "            '<a target=\"_blank\" href=https://colab.research.google.com/notebooks/data_table.ipynb>data table notebook</a>'\n",
              "            + ' to learn more about interactive tables.';\n",
              "          element.innerHTML = '';\n",
              "          dataTable['output_type'] = 'display_data';\n",
              "          await google.colab.output.renderOutput(dataTable, element);\n",
              "          const docLink = document.createElement('div');\n",
              "          docLink.innerHTML = docLinkHtml;\n",
              "          element.appendChild(docLink);\n",
              "        }\n",
              "      </script>\n",
              "    </div>\n",
              "  </div>\n",
              "  "
            ]
          },
          "metadata": {},
          "execution_count": 17
        }
      ]
    },
    {
      "cell_type": "markdown",
      "source": [
        "Numpy is utilized to extract the features from the dataset and saved into a numpy array.\n",
        "\n",
        "\n",
        "---\n",
        "\n"
      ],
      "metadata": {
        "id": "T_SaXQlaI1Y1"
      }
    },
    {
      "cell_type": "code",
      "source": [
        "labels = dataset_raw.iloc[:,-1:]; labels"
      ],
      "metadata": {
        "colab": {
          "base_uri": "https://localhost:8080/",
          "height": 424
        },
        "id": "EUF2-8kRMf-5",
        "outputId": "5376f50c-38ec-4756-b3f3-b8f92d0d5852"
      },
      "execution_count": null,
      "outputs": [
        {
          "output_type": "execute_result",
          "data": {
            "text/plain": [
              "     *label*\n",
              "0          1\n",
              "1          1\n",
              "2          1\n",
              "3          1\n",
              "4          1\n",
              "..       ...\n",
              "109        0\n",
              "110        0\n",
              "111        0\n",
              "112        0\n",
              "113        0\n",
              "\n",
              "[114 rows x 1 columns]"
            ],
            "text/html": [
              "\n",
              "  <div id=\"df-b42e8ac0-1947-4f47-b2ba-b72d2108a1a4\">\n",
              "    <div class=\"colab-df-container\">\n",
              "      <div>\n",
              "<style scoped>\n",
              "    .dataframe tbody tr th:only-of-type {\n",
              "        vertical-align: middle;\n",
              "    }\n",
              "\n",
              "    .dataframe tbody tr th {\n",
              "        vertical-align: top;\n",
              "    }\n",
              "\n",
              "    .dataframe thead th {\n",
              "        text-align: right;\n",
              "    }\n",
              "</style>\n",
              "<table border=\"1\" class=\"dataframe\">\n",
              "  <thead>\n",
              "    <tr style=\"text-align: right;\">\n",
              "      <th></th>\n",
              "      <th>*label*</th>\n",
              "    </tr>\n",
              "  </thead>\n",
              "  <tbody>\n",
              "    <tr>\n",
              "      <th>0</th>\n",
              "      <td>1</td>\n",
              "    </tr>\n",
              "    <tr>\n",
              "      <th>1</th>\n",
              "      <td>1</td>\n",
              "    </tr>\n",
              "    <tr>\n",
              "      <th>2</th>\n",
              "      <td>1</td>\n",
              "    </tr>\n",
              "    <tr>\n",
              "      <th>3</th>\n",
              "      <td>1</td>\n",
              "    </tr>\n",
              "    <tr>\n",
              "      <th>4</th>\n",
              "      <td>1</td>\n",
              "    </tr>\n",
              "    <tr>\n",
              "      <th>...</th>\n",
              "      <td>...</td>\n",
              "    </tr>\n",
              "    <tr>\n",
              "      <th>109</th>\n",
              "      <td>0</td>\n",
              "    </tr>\n",
              "    <tr>\n",
              "      <th>110</th>\n",
              "      <td>0</td>\n",
              "    </tr>\n",
              "    <tr>\n",
              "      <th>111</th>\n",
              "      <td>0</td>\n",
              "    </tr>\n",
              "    <tr>\n",
              "      <th>112</th>\n",
              "      <td>0</td>\n",
              "    </tr>\n",
              "    <tr>\n",
              "      <th>113</th>\n",
              "      <td>0</td>\n",
              "    </tr>\n",
              "  </tbody>\n",
              "</table>\n",
              "<p>114 rows × 1 columns</p>\n",
              "</div>\n",
              "      <button class=\"colab-df-convert\" onclick=\"convertToInteractive('df-b42e8ac0-1947-4f47-b2ba-b72d2108a1a4')\"\n",
              "              title=\"Convert this dataframe to an interactive table.\"\n",
              "              style=\"display:none;\">\n",
              "        \n",
              "  <svg xmlns=\"http://www.w3.org/2000/svg\" height=\"24px\"viewBox=\"0 0 24 24\"\n",
              "       width=\"24px\">\n",
              "    <path d=\"M0 0h24v24H0V0z\" fill=\"none\"/>\n",
              "    <path d=\"M18.56 5.44l.94 2.06.94-2.06 2.06-.94-2.06-.94-.94-2.06-.94 2.06-2.06.94zm-11 1L8.5 8.5l.94-2.06 2.06-.94-2.06-.94L8.5 2.5l-.94 2.06-2.06.94zm10 10l.94 2.06.94-2.06 2.06-.94-2.06-.94-.94-2.06-.94 2.06-2.06.94z\"/><path d=\"M17.41 7.96l-1.37-1.37c-.4-.4-.92-.59-1.43-.59-.52 0-1.04.2-1.43.59L10.3 9.45l-7.72 7.72c-.78.78-.78 2.05 0 2.83L4 21.41c.39.39.9.59 1.41.59.51 0 1.02-.2 1.41-.59l7.78-7.78 2.81-2.81c.8-.78.8-2.07 0-2.86zM5.41 20L4 18.59l7.72-7.72 1.47 1.35L5.41 20z\"/>\n",
              "  </svg>\n",
              "      </button>\n",
              "      \n",
              "  <style>\n",
              "    .colab-df-container {\n",
              "      display:flex;\n",
              "      flex-wrap:wrap;\n",
              "      gap: 12px;\n",
              "    }\n",
              "\n",
              "    .colab-df-convert {\n",
              "      background-color: #E8F0FE;\n",
              "      border: none;\n",
              "      border-radius: 50%;\n",
              "      cursor: pointer;\n",
              "      display: none;\n",
              "      fill: #1967D2;\n",
              "      height: 32px;\n",
              "      padding: 0 0 0 0;\n",
              "      width: 32px;\n",
              "    }\n",
              "\n",
              "    .colab-df-convert:hover {\n",
              "      background-color: #E2EBFA;\n",
              "      box-shadow: 0px 1px 2px rgba(60, 64, 67, 0.3), 0px 1px 3px 1px rgba(60, 64, 67, 0.15);\n",
              "      fill: #174EA6;\n",
              "    }\n",
              "\n",
              "    [theme=dark] .colab-df-convert {\n",
              "      background-color: #3B4455;\n",
              "      fill: #D2E3FC;\n",
              "    }\n",
              "\n",
              "    [theme=dark] .colab-df-convert:hover {\n",
              "      background-color: #434B5C;\n",
              "      box-shadow: 0px 1px 3px 1px rgba(0, 0, 0, 0.15);\n",
              "      filter: drop-shadow(0px 1px 2px rgba(0, 0, 0, 0.3));\n",
              "      fill: #FFFFFF;\n",
              "    }\n",
              "  </style>\n",
              "\n",
              "      <script>\n",
              "        const buttonEl =\n",
              "          document.querySelector('#df-b42e8ac0-1947-4f47-b2ba-b72d2108a1a4 button.colab-df-convert');\n",
              "        buttonEl.style.display =\n",
              "          google.colab.kernel.accessAllowed ? 'block' : 'none';\n",
              "\n",
              "        async function convertToInteractive(key) {\n",
              "          const element = document.querySelector('#df-b42e8ac0-1947-4f47-b2ba-b72d2108a1a4');\n",
              "          const dataTable =\n",
              "            await google.colab.kernel.invokeFunction('convertToInteractive',\n",
              "                                                     [key], {});\n",
              "          if (!dataTable) return;\n",
              "\n",
              "          const docLinkHtml = 'Like what you see? Visit the ' +\n",
              "            '<a target=\"_blank\" href=https://colab.research.google.com/notebooks/data_table.ipynb>data table notebook</a>'\n",
              "            + ' to learn more about interactive tables.';\n",
              "          element.innerHTML = '';\n",
              "          dataTable['output_type'] = 'display_data';\n",
              "          await google.colab.output.renderOutput(dataTable, element);\n",
              "          const docLink = document.createElement('div');\n",
              "          docLink.innerHTML = docLinkHtml;\n",
              "          element.appendChild(docLink);\n",
              "        }\n",
              "      </script>\n",
              "    </div>\n",
              "  </div>\n",
              "  "
            ]
          },
          "metadata": {},
          "execution_count": 18
        }
      ]
    },
    {
      "cell_type": "markdown",
      "source": [
        "Numpy is utilized to extract the labels from the dataset and saved into a numpy array.\n",
        "\n",
        "\n",
        "---\n",
        "\n"
      ],
      "metadata": {
        "id": "gtivqwMYJr4r"
      }
    },
    {
      "cell_type": "code",
      "source": [
        "from sklearn.model_selection import train_test_split\n",
        "X_train, X_test, y_train, y_test = train_test_split(features, labels, test_size=0.33, random_state=50)"
      ],
      "metadata": {
        "id": "R7Tf64LuNQvg"
      },
      "execution_count": null,
      "outputs": []
    },
    {
      "cell_type": "markdown",
      "source": [
        "Numpy array of both the features and labels is transformed into a four different numpy arrays; reperesenting train data (66%) and test data (33%).\n",
        "\n",
        "\n",
        "---\n",
        "\n"
      ],
      "metadata": {
        "id": "QTfOJ4SIJ0RO"
      }
    },
    {
      "cell_type": "code",
      "source": [
        "X_train = tf.convert_to_tensor(X_train)\n",
        "X_test = tf.convert_to_tensor(X_test)\n",
        "y_train = tf.convert_to_tensor(y_train)\n",
        "y_test = tf.convert_to_tensor(y_test)"
      ],
      "metadata": {
        "id": "6FJzTlmMOcWg"
      },
      "execution_count": null,
      "outputs": []
    },
    {
      "cell_type": "markdown",
      "source": [
        "The numpy arrays of both the training and testing dataset are transformed into an tensor datatype.\n",
        "\n",
        "\n",
        "---\n",
        "\n"
      ],
      "metadata": {
        "id": "_zRFvACpKflG"
      }
    },
    {
      "cell_type": "markdown",
      "source": [
        "# Modeling"
      ],
      "metadata": {
        "id": "KfEL2_DQycvi"
      }
    },
    {
      "cell_type": "markdown",
      "source": [
        "## Architecture Declaration"
      ],
      "metadata": {
        "id": "ONLTRST-yuoo"
      }
    },
    {
      "cell_type": "code",
      "source": [
        "embedding = \"https://tfhub.dev/google/nnlm-en-dim50/2\"\n",
        "hub_layer = hub.KerasLayer(embedding, input_shape=[], \n",
        "                           dtype=tf.string, trainable=True)"
      ],
      "metadata": {
        "id": "muH1r1d5MUOQ"
      },
      "execution_count": null,
      "outputs": []
    },
    {
      "cell_type": "markdown",
      "source": [
        "The embedding layer is defined based on nnlm-em-dim50/2 languge model trained on the english languge google news dataset.\n",
        "\n",
        "\n",
        "---\n",
        "\n"
      ],
      "metadata": {
        "id": "bSAZElAdMZ2G"
      }
    },
    {
      "cell_type": "code",
      "source": [
        "model = tf.keras.Sequential()\n",
        "model.add(hub_layer)\n",
        "model.add(tf.keras.layers.Dense(16, activation='relu'))\n",
        "model.add(tf.keras.layers.Dense(1))\n",
        "\n",
        "model.summary()"
      ],
      "metadata": {
        "colab": {
          "base_uri": "https://localhost:8080/"
        },
        "id": "k24bC4o7QR_q",
        "outputId": "5ed4ccf1-e565-4984-cd45-59dd3fb8f722"
      },
      "execution_count": null,
      "outputs": [
        {
          "output_type": "stream",
          "name": "stderr",
          "text": [
            "WARNING:tensorflow:Please fix your imports. Module tensorflow.python.training.tracking.data_structures has been moved to tensorflow.python.trackable.data_structures. The old module will be deleted in version 2.11.\n",
            "WARNING:tensorflow:From /usr/local/lib/python3.8/dist-packages/tensorflow/python/autograph/pyct/static_analysis/liveness.py:83: Analyzer.lamba_check (from tensorflow.python.autograph.pyct.static_analysis.liveness) is deprecated and will be removed after 2023-09-23.\n",
            "Instructions for updating:\n",
            "Lambda fuctions will be no more assumed to be used in the statement where they are used, or at least in the same block. https://github.com/tensorflow/tensorflow/issues/56089\n"
          ]
        },
        {
          "output_type": "stream",
          "name": "stdout",
          "text": [
            "Model: \"sequential\"\n",
            "_________________________________________________________________\n",
            " Layer (type)                Output Shape              Param #   \n",
            "=================================================================\n",
            " keras_layer (KerasLayer)    (None, 50)                48190600  \n",
            "                                                                 \n",
            " dense (Dense)               (None, 16)                816       \n",
            "                                                                 \n",
            " dense_1 (Dense)             (None, 1)                 17        \n",
            "                                                                 \n",
            "=================================================================\n",
            "Total params: 48,191,433\n",
            "Trainable params: 48,191,433\n",
            "Non-trainable params: 0\n",
            "_________________________________________________________________\n"
          ]
        }
      ]
    },
    {
      "cell_type": "markdown",
      "source": [
        "## Architecture Compilation"
      ],
      "metadata": {
        "id": "o9jm7lpWyzhW"
      }
    },
    {
      "cell_type": "code",
      "source": [
        "model.compile(optimizer='adam',\n",
        "              loss=tf.keras.losses.BinaryCrossentropy(from_logits=True),\n",
        "              metrics=['accuracy'])"
      ],
      "metadata": {
        "id": "-xhLZFXuRC8l"
      },
      "execution_count": null,
      "outputs": []
    },
    {
      "cell_type": "markdown",
      "source": [
        "## Model Fitting"
      ],
      "metadata": {
        "id": "E5S7b3x6zHvb"
      }
    },
    {
      "cell_type": "code",
      "source": [
        "history = model.fit(X_train, y_train, epochs=20, batch_size=20)"
      ],
      "metadata": {
        "colab": {
          "base_uri": "https://localhost:8080/"
        },
        "id": "C25ZAs7IRIg_",
        "outputId": "1efce84f-1e10-4a92-8495-05a923068dcd"
      },
      "execution_count": null,
      "outputs": [
        {
          "output_type": "stream",
          "name": "stdout",
          "text": [
            "Epoch 1/20\n",
            "4/4 [==============================] - 4s 765ms/step - loss: 0.6574 - accuracy: 0.4605\n",
            "Epoch 2/20\n",
            "4/4 [==============================] - 2s 562ms/step - loss: 0.6215 - accuracy: 0.4868\n",
            "Epoch 3/20\n",
            "4/4 [==============================] - 2s 583ms/step - loss: 0.5915 - accuracy: 0.5789\n",
            "Epoch 4/20\n",
            "4/4 [==============================] - 2s 575ms/step - loss: 0.5621 - accuracy: 0.6316\n",
            "Epoch 5/20\n",
            "4/4 [==============================] - 2s 585ms/step - loss: 0.5329 - accuracy: 0.6842\n",
            "Epoch 6/20\n",
            "4/4 [==============================] - 3s 707ms/step - loss: 0.5045 - accuracy: 0.7763\n",
            "Epoch 7/20\n",
            "4/4 [==============================] - 2s 575ms/step - loss: 0.4763 - accuracy: 0.8421\n",
            "Epoch 8/20\n",
            "4/4 [==============================] - 2s 561ms/step - loss: 0.4479 - accuracy: 0.9605\n",
            "Epoch 9/20\n",
            "4/4 [==============================] - 2s 585ms/step - loss: 0.4198 - accuracy: 0.9868\n",
            "Epoch 10/20\n",
            "4/4 [==============================] - 2s 608ms/step - loss: 0.3913 - accuracy: 1.0000\n",
            "Epoch 11/20\n",
            "4/4 [==============================] - 3s 670ms/step - loss: 0.3635 - accuracy: 1.0000\n",
            "Epoch 12/20\n",
            "4/4 [==============================] - 2s 588ms/step - loss: 0.3359 - accuracy: 1.0000\n",
            "Epoch 13/20\n",
            "4/4 [==============================] - 2s 607ms/step - loss: 0.3082 - accuracy: 1.0000\n",
            "Epoch 14/20\n",
            "4/4 [==============================] - 2s 581ms/step - loss: 0.2818 - accuracy: 1.0000\n",
            "Epoch 15/20\n",
            "4/4 [==============================] - 3s 754ms/step - loss: 0.2565 - accuracy: 1.0000\n",
            "Epoch 16/20\n",
            "4/4 [==============================] - 3s 579ms/step - loss: 0.2318 - accuracy: 1.0000\n",
            "Epoch 17/20\n",
            "4/4 [==============================] - 2s 584ms/step - loss: 0.2089 - accuracy: 1.0000\n",
            "Epoch 18/20\n",
            "4/4 [==============================] - 2s 584ms/step - loss: 0.1875 - accuracy: 1.0000\n",
            "Epoch 19/20\n",
            "4/4 [==============================] - 3s 681ms/step - loss: 0.1680 - accuracy: 1.0000\n",
            "Epoch 20/20\n",
            "4/4 [==============================] - 3s 803ms/step - loss: 0.1497 - accuracy: 1.0000\n"
          ]
        }
      ]
    },
    {
      "cell_type": "markdown",
      "source": [
        "# Evaluation and Optimization"
      ],
      "metadata": {
        "id": "aUHMD_wczV24"
      }
    },
    {
      "cell_type": "code",
      "source": [
        "results = model.evaluate(X_test, y_test, verbose=2)\n",
        "\n",
        "for name, value in zip(model.metrics_names, results):\n",
        "  print(\"%s: %.3f\" % (name, value))"
      ],
      "metadata": {
        "colab": {
          "base_uri": "https://localhost:8080/"
        },
        "id": "3cT4RXDqR_Uh",
        "outputId": "ade857f3-1c32-446f-a827-f6187b50a9be"
      },
      "execution_count": null,
      "outputs": [
        {
          "output_type": "stream",
          "name": "stdout",
          "text": [
            "2/2 - 0s - loss: 0.2913 - accuracy: 0.9474 - 456ms/epoch - 228ms/step\n",
            "loss: 0.291\n",
            "accuracy: 0.947\n"
          ]
        }
      ]
    },
    {
      "cell_type": "markdown",
      "source": [
        "The build model achieved 94% accuracy to predict the GWAS-Parkinson studies.\n",
        "\n",
        "\n",
        "---\n",
        "\n"
      ],
      "metadata": {
        "id": "il4zcprxLEAS"
      }
    },
    {
      "cell_type": "markdown",
      "source": [
        "# Implications\n",
        "The build deep learning model will assist in the mass screening of new research studies in the domain of genome wide associations in Parkinson. The screen studies would contain the dataset of GWAS Associations that might not be previouslly annotated in the current databases. This approch will provide an oppertunity to have the hands on new associations to build and update the current **`biomarker and drug target identification hypothesis`** to putforth the personalized medicine.\n",
        "\n",
        "Some of the potential applications and implication of the current study includes:\n",
        "\n",
        "\n",
        "1.   Build / update biomarker hypothesis\n",
        "2.   Build / update drug target identification hypothesis.\n",
        "3.   Better understand disease biology.\n",
        "\n",
        "\n",
        "\n",
        "\n"
      ],
      "metadata": {
        "id": "-ef5doaTWDdZ"
      }
    },
    {
      "cell_type": "markdown",
      "source": [
        "\n",
        "\n",
        "---\n",
        "\n",
        "\n",
        "> `I am a Bioinformatics and Machine learning expert; mostly working around genomics, drug development and medicine.`\n",
        "~ Ahsan Raza\n",
        "aysanraza@gmail.com \n",
        "[Linkedin](https://www.linkedin.com/in/ahsan-raza-0510b1128/)\n",
        "\n",
        "---\n",
        "\n",
        "\n",
        "\n",
        "\n",
        "\n"
      ],
      "metadata": {
        "id": "hvlYCFoJavxT"
      }
    }
  ]
}